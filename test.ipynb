{
  "nbformat": 4,
  "nbformat_minor": 0,
  "metadata": {
    "colab": {
      "name": "Untitled9.ipynb",
      "provenance": [],
      "authorship_tag": "ABX9TyMzgkqM4nzu5jBJYGU3LFm+",
      "include_colab_link": true
    },
    "kernelspec": {
      "name": "python3",
      "display_name": "Python 3"
    },
    "language_info": {
      "name": "python"
    },
    "accelerator": "GPU"
  },
  "cells": [
    {
      "cell_type": "markdown",
      "metadata": {
        "id": "view-in-github",
        "colab_type": "text"
      },
      "source": [
        "<a href=\"https://colab.research.google.com/github/abhiyantaabhishek/test/blob/main/test.ipynb\" target=\"_parent\"><img src=\"https://colab.research.google.com/assets/colab-badge.svg\" alt=\"Open In Colab\"/></a>"
      ]
    },
    {
      "cell_type": "code",
      "metadata": {
        "id": "pvP_EKIMq9sW",
        "outputId": "49bc859d-470a-4c9a-aa57-952ba2945c9b",
        "colab": {
          "base_uri": "https://localhost:8080/"
        }
      },
      "source": [
        "from google.colab import drive\n",
        "drive.mount('/content/drive')"
      ],
      "execution_count": 2,
      "outputs": [
        {
          "output_type": "stream",
          "name": "stdout",
          "text": [
            "Mounted at /content/drive\n"
          ]
        }
      ]
    },
    {
      "cell_type": "code",
      "metadata": {
        "id": "gP4MSvghxzxK"
      },
      "source": [
        "!unzip /content/drive/MyDrive/Test_data.zip"
      ],
      "execution_count": null,
      "outputs": []
    },
    {
      "cell_type": "code",
      "metadata": {
        "id": "F2nSwbulx9bz",
        "outputId": "a047185e-5c7a-4ef9-d5f3-b9ec62b3835c",
        "colab": {
          "base_uri": "https://localhost:8080/"
        }
      },
      "source": [
        "!ls Test_data/"
      ],
      "execution_count": 12,
      "outputs": [
        {
          "output_type": "stream",
          "name": "stdout",
          "text": [
            "Test  Train  Val\n"
          ]
        }
      ]
    },
    {
      "cell_type": "code",
      "metadata": {
        "id": "P1WNJa916GEJ"
      },
      "source": [
        "!mv Test_data/Sample_Submission.csv Sample_Submission.csv"
      ],
      "execution_count": 11,
      "outputs": []
    },
    {
      "cell_type": "code",
      "metadata": {
        "id": "jBLyN3lmxYry"
      },
      "source": [
        "drive.flush_and_unmount()"
      ],
      "execution_count": null,
      "outputs": []
    },
    {
      "cell_type": "code",
      "metadata": {
        "id": "91JGbcKdzFEi"
      },
      "source": [
        "import os\n",
        "import matplotlib.pyplot as plt\n",
        "import numpy as np\n",
        "from sklearn.preprocessing import LabelBinarizer"
      ],
      "execution_count": 32,
      "outputs": []
    },
    {
      "cell_type": "code",
      "metadata": {
        "id": "UmgxSs8P-fT7"
      },
      "source": [
        "from tensorflow.keras.preprocessing.image import ImageDataGenerator"
      ],
      "execution_count": 47,
      "outputs": []
    },
    {
      "cell_type": "code",
      "metadata": {
        "id": "bW-gp5IazH-B",
        "outputId": "1fa7abcc-f272-4def-ce03-2641f8cd4b93",
        "colab": {
          "base_uri": "https://localhost:8080/"
        }
      },
      "source": [
        "classess = os.listdir(\"Test_data/Train/\")\n",
        "classess"
      ],
      "execution_count": 5,
      "outputs": [
        {
          "output_type": "execute_result",
          "data": {
            "text/plain": [
              "['animal', 'airplane', 'truck', 'car', 'human']"
            ]
          },
          "metadata": {},
          "execution_count": 5
        }
      ]
    },
    {
      "cell_type": "code",
      "metadata": {
        "id": "fF_ea2wZzTDx",
        "outputId": "70db875f-9715-4a35-8f7c-9b2c77714ca8",
        "colab": {
          "base_uri": "https://localhost:8080/"
        }
      },
      "source": [
        "for class_ in classess:\n",
        "  img_path = os.path.join(\"Test_data/Train/\",class_)\n",
        "  print( \"No of Img Train:\", len(os.listdir(img_path)),',',class_)"
      ],
      "execution_count": 23,
      "outputs": [
        {
          "output_type": "stream",
          "name": "stdout",
          "text": [
            "No of Img Train: 194 , animal\n",
            "No of Img Train: 194 , airplane\n",
            "No of Img Train: 194 , truck\n",
            "No of Img Train: 194 , car\n",
            "No of Img Train: 194 , human\n"
          ]
        }
      ]
    },
    {
      "cell_type": "code",
      "metadata": {
        "id": "KlSGEXge7QV5",
        "outputId": "71d63abe-2219-4e08-b513-c3dcdcd08292",
        "colab": {
          "base_uri": "https://localhost:8080/"
        }
      },
      "source": [
        "for class_ in classess:\n",
        "  img_path = os.path.join(\"Test_data/Val/\",class_)\n",
        "  print( \"No of Img Val:\", len(os.listdir(img_path)),',',class_)"
      ],
      "execution_count": 24,
      "outputs": [
        {
          "output_type": "stream",
          "name": "stdout",
          "text": [
            "No of Img Val: 582 , animal\n",
            "No of Img Val: 582 , airplane\n",
            "No of Img Val: 582 , truck\n",
            "No of Img Val: 582 , car\n",
            "No of Img Val: 582 , human\n"
          ]
        }
      ]
    },
    {
      "cell_type": "code",
      "metadata": {
        "id": "_WMKTBDn1lKj"
      },
      "source": [
        "train_images = []\n",
        "train_labels = []\n",
        "val_images = []\n",
        "val_labels = []\n",
        "test_images = []\n",
        "test_labels = []\n",
        "\n",
        "for root, dirs, files in os.walk(\"Test_data\"):\n",
        "   for name in files:\n",
        "      full_path = os.path.join(root, name)\n",
        "      data_type = full_path.split(os.sep)[1]\n",
        "      img = plt.imread(full_path)\n",
        "      if(data_type == \"Train\"):\n",
        "        label = full_path.split(os.sep)[2]\n",
        "        train_images.append(img)\n",
        "        train_labels.append(label)\n",
        "      elif ( data_type == \"Val\"):\n",
        "        label = full_path.split(os.sep)[2]\n",
        "        val_images.append(img)\n",
        "        val_labels.append(label)\n",
        "      else:\n",
        "        test_images.append(img)"
      ],
      "execution_count": null,
      "outputs": []
    },
    {
      "cell_type": "code",
      "metadata": {
        "id": "59UuuhUa6aYP",
        "outputId": "a52faddc-c420-4715-f177-9ae9829277e3",
        "colab": {
          "base_uri": "https://localhost:8080/"
        }
      },
      "source": [
        "train_images = np.array(train_images)\n",
        "val_images = np.array(val_images)\n",
        "test_images = np.array(test_images)\n",
        "lb = LabelBinarizer()\n",
        "lb.fit(train_labels)\n",
        "print(lb.classes_)\n",
        "train_label_onehot = lb.transform(train_labels)\n",
        "val_label_onehot = lb.transform(val_labels)"
      ],
      "execution_count": 46,
      "outputs": [
        {
          "output_type": "stream",
          "name": "stdout",
          "text": [
            "['airplane' 'animal' 'car' 'human' 'truck']\n"
          ]
        }
      ]
    },
    {
      "cell_type": "code",
      "metadata": {
        "id": "xzbrzD6g6rfW",
        "outputId": "21588ea9-eb10-4195-ddd3-175d30aa8404",
        "colab": {
          "base_uri": "https://localhost:8080/"
        }
      },
      "source": [
        "print(train_images.shape)\n",
        "print(val_images.shape)\n",
        "print(test_images.shape)\n",
        "assert len(train_images) == len(train_labels)\n",
        "assert len(val_images) == len(val_labels)"
      ],
      "execution_count": 20,
      "outputs": [
        {
          "output_type": "stream",
          "name": "stdout",
          "text": [
            "(970, 96, 96)\n",
            "(2910, 96, 96)\n",
            "(1940, 96, 96)\n"
          ]
        }
      ]
    },
    {
      "cell_type": "code",
      "metadata": {
        "id": "WSmlw6p2682x",
        "outputId": "d4fb7d15-508d-4f56-ac23-89c3a1561f32",
        "colab": {
          "base_uri": "https://localhost:8080/",
          "height": 275
        }
      },
      "source": [
        "hist = plt.hist(train_images.flatten(),bins=100)"
      ],
      "execution_count": 29,
      "outputs": [
        {
          "output_type": "display_data",
          "data": {
            "image/png": "[encoded data removed]",
            "text/plain": [
              "<Figure size 432x288 with 1 Axes>"
            ]
          },
          "metadata": {
            "needs_background": "light"
          }
        }
      ]
    },
    {
      "cell_type": "code",
      "metadata": {
        "id": "PggmRXCJ76Cx"
      },
      "source": [
        "train_images_normalised = (train_images-train_images.mean())/train_images.std()\n",
        "val_images_normalised = (val_images-val_images.mean())/val_images.std()"
      ],
      "execution_count": 33,
      "outputs": []
    },
    {
      "cell_type": "code",
      "metadata": {
        "id": "3kYgROoo8JdJ",
        "outputId": "88ca237a-1134-4bcb-9a10-d189201b172b",
        "colab": {
          "base_uri": "https://localhost:8080/",
          "height": 275
        }
      },
      "source": [
        "hist = plt.hist(train_images_normalised.flatten(),bins=100)"
      ],
      "execution_count": 31,
      "outputs": [
        {
          "output_type": "display_data",
          "data": {
            "image/png": "[encoded data removed]",
            "text/plain": [
              "<Figure size 432x288 with 1 Axes>"
            ]
          },
          "metadata": {
            "needs_background": "light"
          }
        }
      ]
    },
    {
      "cell_type": "code",
      "metadata": {
        "id": "IcAbIddJ-PVm"
      },
      "source": [
        "Augmented_training = ImageDataGenerator(rotation_range=90,\n",
        "                                        fill_mode='nearest',\n",
        "                                        horizontal_flip=True,\n",
        "                                        vertical_flip=True,\n",
        "                                        width_shift_range=0.1,\n",
        "                                        height_shif_range=0.1)"
      ],
      "execution_count": null,
      "outputs": []
    },
    {
      "cell_type": "code",
      "metadata": {
        "id": "2BDr64hLAbcM"
      },
      "source": [
        ""
      ],
      "execution_count": null,
      "outputs": []
    }
  ]
}