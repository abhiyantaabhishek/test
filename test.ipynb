{
  "nbformat": 4,
  "nbformat_minor": 0,
  "metadata": {
    "colab": {
      "name": "Untitled9.ipynb",
      "provenance": [],
      "authorship_tag": "ABX9TyP5uvwXYNOri/vn9UIi8Ciq",
      "include_colab_link": true
    },
    "kernelspec": {
      "name": "python3",
      "display_name": "Python 3"
    },
    "language_info": {
      "name": "python"
    },
    "accelerator": "GPU"
  },
  "cells": [
    {
      "cell_type": "markdown",
      "metadata": {
        "id": "view-in-github",
        "colab_type": "text"
      },
      "source": [
        "<a href=\"https://colab.research.google.com/github/abhiyantaabhishek/test/blob/main/test.ipynb\" target=\"_parent\"><img src=\"https://colab.research.google.com/assets/colab-badge.svg\" alt=\"Open In Colab\"/></a>"
      ]
    },
    {
      "cell_type": "code",
      "metadata": {
        "id": "pvP_EKIMq9sW",
        "colab": {
          "base_uri": "https://localhost:8080/"
        },
        "outputId": "49bc859d-470a-4c9a-aa57-952ba2945c9b"
      },
      "source": [
        "from google.colab import drive\n",
        "drive.mount('/content/drive')"
      ],
      "execution_count": 2,
      "outputs": [
        {
          "output_type": "stream",
          "name": "stdout",
          "text": [
            "Mounted at /content/drive\n"
          ]
        }
      ]
    },
    {
      "cell_type": "code",
      "metadata": {
        "id": "gP4MSvghxzxK"
      },
      "source": [
        "!unzip /content/drive/MyDrive/Test_data.zip"
      ],
      "execution_count": null,
      "outputs": []
    },
    {
      "cell_type": "code",
      "metadata": {
        "colab": {
          "base_uri": "https://localhost:8080/"
        },
        "id": "F2nSwbulx9bz",
        "outputId": "a047185e-5c7a-4ef9-d5f3-b9ec62b3835c"
      },
      "source": [
        "!ls Test_data/"
      ],
      "execution_count": 12,
      "outputs": [
        {
          "output_type": "stream",
          "name": "stdout",
          "text": [
            "Test  Train  Val\n"
          ]
        }
      ]
    },
    {
      "cell_type": "code",
      "metadata": {
        "id": "P1WNJa916GEJ"
      },
      "source": [
        "!mv Test_data/Sample_Submission.csv Sample_Submission.csv"
      ],
      "execution_count": 11,
      "outputs": []
    },
    {
      "cell_type": "code",
      "metadata": {
        "id": "jBLyN3lmxYry"
      },
      "source": [
        "drive.flush_and_unmount()"
      ],
      "execution_count": null,
      "outputs": []
    },
    {
      "cell_type": "code",
      "metadata": {
        "id": "91JGbcKdzFEi"
      },
      "source": [
        "import os\n",
        "import matplotlib.pyplot as plt\n",
        "import numpy as np\n",
        "from sklearn.preprocessing import LabelBinarizer\n",
        "from sklearn.metrics import classification_report,confusion_matrix"
      ],
      "execution_count": 115,
      "outputs": []
    },
    {
      "cell_type": "code",
      "metadata": {
        "id": "UmgxSs8P-fT7"
      },
      "source": [
        "from tensorflow.keras.preprocessing.image import ImageDataGenerator\n",
        "from tensorflow.keras.callbacks import ( EarlyStopping, ModelCheckpoint,ReduceLROnPlateau)\n",
        "import tensorflow.keras.layers as L\n",
        "import tensorflow.keras.backend as K\n",
        "import tensorflow as tf"
      ],
      "execution_count": 52,
      "outputs": []
    },
    {
      "cell_type": "code",
      "metadata": {
        "colab": {
          "base_uri": "https://localhost:8080/"
        },
        "id": "bW-gp5IazH-B",
        "outputId": "1fa7abcc-f272-4def-ce03-2641f8cd4b93"
      },
      "source": [
        "classess = os.listdir(\"Test_data/Train/\")\n",
        "classess"
      ],
      "execution_count": 5,
      "outputs": [
        {
          "output_type": "execute_result",
          "data": {
            "text/plain": [
              "['animal', 'airplane', 'truck', 'car', 'human']"
            ]
          },
          "metadata": {},
          "execution_count": 5
        }
      ]
    },
    {
      "cell_type": "code",
      "metadata": {
        "colab": {
          "base_uri": "https://localhost:8080/"
        },
        "id": "fF_ea2wZzTDx",
        "outputId": "70db875f-9715-4a35-8f7c-9b2c77714ca8"
      },
      "source": [
        "for class_ in classess:\n",
        "  img_path = os.path.join(\"Test_data/Train/\",class_)\n",
        "  print( \"No of Img Train:\", len(os.listdir(img_path)),',',class_)"
      ],
      "execution_count": 23,
      "outputs": [
        {
          "output_type": "stream",
          "name": "stdout",
          "text": [
            "No of Img Train: 194 , animal\n",
            "No of Img Train: 194 , airplane\n",
            "No of Img Train: 194 , truck\n",
            "No of Img Train: 194 , car\n",
            "No of Img Train: 194 , human\n"
          ]
        }
      ]
    },
    {
      "cell_type": "code",
      "metadata": {
        "colab": {
          "base_uri": "https://localhost:8080/"
        },
        "id": "KlSGEXge7QV5",
        "outputId": "71d63abe-2219-4e08-b513-c3dcdcd08292"
      },
      "source": [
        "for class_ in classess:\n",
        "  img_path = os.path.join(\"Test_data/Val/\",class_)\n",
        "  print( \"No of Img Val:\", len(os.listdir(img_path)),',',class_)"
      ],
      "execution_count": 24,
      "outputs": [
        {
          "output_type": "stream",
          "name": "stdout",
          "text": [
            "No of Img Val: 582 , animal\n",
            "No of Img Val: 582 , airplane\n",
            "No of Img Val: 582 , truck\n",
            "No of Img Val: 582 , car\n",
            "No of Img Val: 582 , human\n"
          ]
        }
      ]
    },
    {
      "cell_type": "code",
      "metadata": {
        "id": "_WMKTBDn1lKj"
      },
      "source": [
        "train_images = []\n",
        "train_labels = []\n",
        "val_images = []\n",
        "val_labels = []\n",
        "test_images = []\n",
        "test_labels = []\n",
        "\n",
        "for root, dirs, files in os.walk(\"Test_data\"):\n",
        "   for name in files:\n",
        "      full_path = os.path.join(root, name)\n",
        "      data_type = full_path.split(os.sep)[1]\n",
        "      img = plt.imread(full_path)\n",
        "      if(data_type == \"Train\"):\n",
        "        label = full_path.split(os.sep)[2]\n",
        "        train_images.append(img)\n",
        "        train_labels.append(label)\n",
        "      elif ( data_type == \"Val\"):\n",
        "        label = full_path.split(os.sep)[2]\n",
        "        val_images.append(img)\n",
        "        val_labels.append(label)\n",
        "      else:\n",
        "        test_images.append(img)"
      ],
      "execution_count": null,
      "outputs": []
    },
    {
      "cell_type": "code",
      "metadata": {
        "colab": {
          "base_uri": "https://localhost:8080/"
        },
        "id": "59UuuhUa6aYP",
        "outputId": "a52faddc-c420-4715-f177-9ae9829277e3"
      },
      "source": [
        "train_images = np.array(train_images)\n",
        "val_images = np.array(val_images)\n",
        "test_images = np.array(test_images)\n",
        "lb = LabelBinarizer()\n",
        "lb.fit(train_labels)\n",
        "print(lb.classes_)\n",
        "train_label_onehot = lb.transform(train_labels)\n",
        "val_label_onehot = lb.transform(val_labels)"
      ],
      "execution_count": 46,
      "outputs": [
        {
          "output_type": "stream",
          "name": "stdout",
          "text": [
            "['airplane' 'animal' 'car' 'human' 'truck']\n"
          ]
        }
      ]
    },
    {
      "cell_type": "code",
      "metadata": {
        "colab": {
          "base_uri": "https://localhost:8080/"
        },
        "id": "xzbrzD6g6rfW",
        "outputId": "21588ea9-eb10-4195-ddd3-175d30aa8404"
      },
      "source": [
        "print(train_images.shape)\n",
        "print(val_images.shape)\n",
        "print(test_images.shape)\n",
        "assert len(train_images) == len(train_labels)\n",
        "assert len(val_images) == len(val_labels)"
      ],
      "execution_count": 20,
      "outputs": [
        {
          "output_type": "stream",
          "name": "stdout",
          "text": [
            "(970, 96, 96)\n",
            "(2910, 96, 96)\n",
            "(1940, 96, 96)\n"
          ]
        }
      ]
    },
    {
      "cell_type": "code",
      "metadata": {
        "colab": {
          "base_uri": "https://localhost:8080/",
          "height": 275
        },
        "id": "WSmlw6p2682x",
        "outputId": "d4fb7d15-508d-4f56-ac23-89c3a1561f32"
      },
      "source": [
        "hist = plt.hist(train_images.flatten(),bins=100)"
      ],
      "execution_count": 29,
      "outputs": [
        {
          "output_type": "display_data",
          "data": {
            "image/png": "[encoded data removed]",
            "text/plain": [
              "<Figure size 432x288 with 1 Axes>"
            ]
          },
          "metadata": {
            "needs_background": "light"
          }
        }
      ]
    },
    {
      "cell_type": "code",
      "metadata": {
        "id": "PggmRXCJ76Cx"
      },
      "source": [
        "train_images_normalised = (train_images-train_images.mean())/train_images.std()\n",
        "val_images_normalised = (val_images-val_images.mean())/val_images.std()"
      ],
      "execution_count": 33,
      "outputs": []
    },
    {
      "cell_type": "code",
      "metadata": {
        "colab": {
          "base_uri": "https://localhost:8080/",
          "height": 275
        },
        "id": "3kYgROoo8JdJ",
        "outputId": "88ca237a-1134-4bcb-9a10-d189201b172b"
      },
      "source": [
        "hist = plt.hist(train_images_normalised.flatten(),bins=100)"
      ],
      "execution_count": 31,
      "outputs": [
        {
          "output_type": "display_data",
          "data": {
            "image/png": "[encoded data removed]",
            "text/plain": [
              "<Figure size 432x288 with 1 Axes>"
            ]
          },
          "metadata": {
            "needs_background": "light"
          }
        }
      ]
    },
    {
      "cell_type": "code",
      "metadata": {
        "id": "IcAbIddJ-PVm"
      },
      "source": [
        "Augmented_training = ImageDataGenerator(rotation_range=90,\n",
        "                                        fill_mode='nearest',\n",
        "                                        horizontal_flip=True,\n",
        "                                        vertical_flip=True,\n",
        "                                        width_shift_range=0.1,\n",
        "                                        height_shift_range=0.1)"
      ],
      "execution_count": 102,
      "outputs": []
    },
    {
      "cell_type": "code",
      "metadata": {
        "id": "2BDr64hLAbcM"
      },
      "source": [
        "K.clear_session()"
      ],
      "execution_count": 51,
      "outputs": []
    },
    {
      "cell_type": "code",
      "metadata": {
        "id": "0yHLGd1RCR81"
      },
      "source": [
        "checkpoint = ModelCheckpoint(\"model_{epoch:02d}\",monitor='val_loss',verbose=1,save_best_only=True)\n",
        "adaptiveLearningRate = ReduceLROnPlateau(monitor='loss',factor=0.1,patience=5,verbose=1,min_delta=0.0001)\n",
        "earlyStopping = EarlyStopping(monitor='loss',mode='auto',verbose=1,patience=25)\n",
        "callback_list = [checkpoint,adaptiveLearningRate,earlyStopping]"
      ],
      "execution_count": 107,
      "outputs": []
    },
    {
      "cell_type": "code",
      "metadata": {
        "id": "2SSnIsvQMHzp"
      },
      "source": [
        "\n",
        "def get_model(input_shape,num_of_class,hidden_size=64,dropout=0.5):\n",
        "  input = tf.keras.Input(shape=(96,96,1))\n",
        "  x = L.Conv2D(filters=32,kernel_size=(3,3),strides=(1,1))(input)\n",
        "  x = L.BatchNormalization()(x)\n",
        "  x = L.Activation('relu')(x)\n",
        "  x = L.MaxPool2D(pool_size=(2,2))(x)\n",
        "\n",
        "  x = L.Conv2D(filters=64,kernel_size=(3,3),strides=(1,1))(x)\n",
        "  x = L.BatchNormalization()(x)\n",
        "  x = L.Activation('relu')(x)\n",
        "  x = L.MaxPool2D(pool_size=(2,2))(x)\n",
        "\n",
        "  x = L.Conv2D(filters=128,kernel_size=(3,3),strides=(1,1))(x)\n",
        "  x = L.BatchNormalization()(x)\n",
        "  x = L.Activation('relu')(x)\n",
        "  x = L.MaxPool2D(pool_size=(2,2))(x)\n",
        "\n",
        "  x = L.Flatten()(x)\n",
        "  x = L.Dense(hidden_size)(x)\n",
        "  x = L.BatchNormalization()(x)\n",
        "  x = L.Activation('relu')(x)\n",
        "  x = L.Dropout(dropout)(x)\n",
        "  x = L.Dense(num_of_class,activation=\"softmax\")(x)\n",
        "  model = tf.keras.Model(input,x)\n",
        "  return model"
      ],
      "execution_count": 98,
      "outputs": []
    },
    {
      "cell_type": "code",
      "metadata": {
        "id": "wWiSeq0WNEti",
        "outputId": "8904faf7-7f4e-45a5-c956-549d52382b18",
        "colab": {
          "base_uri": "https://localhost:8080/"
        }
      },
      "source": [
        "input_shape = (96,96,1)\n",
        "num_of_class = len(lb.classes_)\n",
        "model=get_model(input_shape,num_of_class)\n",
        "model.compile(optimizer=tf.keras.optimizers.Adam(learning_rate=0.0001),\n",
        "              loss=tf.keras.losses.CategoricalCrossentropy(),\n",
        "              metrics=tf.keras.metrics.CategoricalAccuracy())\n",
        "model.summary()"
      ],
      "execution_count": 99,
      "outputs": [
        {
          "output_type": "stream",
          "name": "stdout",
          "text": [
            "Model: \"model_11\"\n",
            "_________________________________________________________________\n",
            "Layer (type)                 Output Shape              Param #   \n",
            "=================================================================\n",
            "input_11 (InputLayer)        [(None, 96, 96, 1)]       0         \n",
            "_________________________________________________________________\n",
            "conv2d_34 (Conv2D)           (None, 94, 94, 32)        320       \n",
            "_________________________________________________________________\n",
            "batch_normalization_34 (Batc (None, 94, 94, 32)        128       \n",
            "_________________________________________________________________\n",
            "activation_34 (Activation)   (None, 94, 94, 32)        0         \n",
            "_________________________________________________________________\n",
            "max_pooling2d_33 (MaxPooling (None, 47, 47, 32)        0         \n",
            "_________________________________________________________________\n",
            "conv2d_35 (Conv2D)           (None, 45, 45, 64)        18496     \n",
            "_________________________________________________________________\n",
            "batch_normalization_35 (Batc (None, 45, 45, 64)        256       \n",
            "_________________________________________________________________\n",
            "activation_35 (Activation)   (None, 45, 45, 64)        0         \n",
            "_________________________________________________________________\n",
            "max_pooling2d_34 (MaxPooling (None, 22, 22, 64)        0         \n",
            "_________________________________________________________________\n",
            "conv2d_36 (Conv2D)           (None, 20, 20, 128)       73856     \n",
            "_________________________________________________________________\n",
            "batch_normalization_36 (Batc (None, 20, 20, 128)       512       \n",
            "_________________________________________________________________\n",
            "activation_36 (Activation)   (None, 20, 20, 128)       0         \n",
            "_________________________________________________________________\n",
            "max_pooling2d_35 (MaxPooling (None, 10, 10, 128)       0         \n",
            "_________________________________________________________________\n",
            "flatten_3 (Flatten)          (None, 12800)             0         \n",
            "_________________________________________________________________\n",
            "dense_9 (Dense)              (None, 64)                819264    \n",
            "_________________________________________________________________\n",
            "batch_normalization_37 (Batc (None, 64)                256       \n",
            "_________________________________________________________________\n",
            "activation_37 (Activation)   (None, 64)                0         \n",
            "_________________________________________________________________\n",
            "dropout_1 (Dropout)          (None, 64)                0         \n",
            "_________________________________________________________________\n",
            "dense_10 (Dense)             (None, 5)                 325       \n",
            "=================================================================\n",
            "Total params: 913,413\n",
            "Trainable params: 912,837\n",
            "Non-trainable params: 576\n",
            "_________________________________________________________________\n"
          ]
        }
      ]
    },
    {
      "cell_type": "code",
      "metadata": {
        "id": "hs8c279iU8_N",
        "outputId": "6d06ec0c-de3c-4219-b770-90db1e69f11a",
        "colab": {
          "base_uri": "https://localhost:8080/"
        }
      },
      "source": [
        "len(np.expand_dims(train_images_normalised,3))//64*50"
      ],
      "execution_count": 113,
      "outputs": [
        {
          "output_type": "execute_result",
          "data": {
            "text/plain": [
              "750"
            ]
          },
          "metadata": {},
          "execution_count": 113
        }
      ]
    },
    {
      "cell_type": "code",
      "metadata": {
        "id": "HPnEntFwPccF"
      },
      "source": [
        "\n",
        "BATCH_SIZE = 32\n",
        "EPOCHS = 50\n",
        "model.fit(\n",
        "    Augmented_training.flow(np.expand_dims(train_images_normalised,3),train_label_onehot,batch_size=BATCH_SIZE),\n",
        "    steps_per_epoch = len(np.expand_dims(train_images_normalised,3))//BATCH_SIZE,\n",
        "    validation_data = (val_images_normalised,val_label_onehot),\n",
        "    validation_steps=len(val_images_normalised)//BATCH_SIZE,\n",
        "    epochs = EPOCHS,\n",
        "    callbacks = callback_list\n",
        ")"
      ],
      "execution_count": null,
      "outputs": []
    },
    {
      "cell_type": "code",
      "metadata": {
        "id": "2A5fb82PWXpM",
        "outputId": "b78213e1-e697-4e2c-ad5e-05030184500a",
        "colab": {
          "base_uri": "https://localhost:8080/"
        }
      },
      "source": [
        "BATCH_SIZE = 32\n",
        "EPOCHS = 50\n",
        "model.fit(\n",
        "    Augmented_training.flow(np.expand_dims(val_images_normalised,3),val_label_onehot,batch_size=BATCH_SIZE),\n",
        "    steps_per_epoch = len(np.expand_dims(val_images_normalised,3))//BATCH_SIZE,\n",
        "    validation_data = (train_images_normalised,train_label_onehot),\n",
        "    validation_steps=len(train_images_normalised)//BATCH_SIZE,\n",
        "    epochs = EPOCHS,\n",
        "    callbacks = callback_list\n",
        ")"
      ],
      "execution_count": 114,
      "outputs": [
        {
          "output_type": "stream",
          "name": "stdout",
          "text": [
            "Epoch 1/50\n",
            "90/90 [==============================] - 5s 55ms/step - loss: 2.7319 - categorical_accuracy: 0.3224 - val_loss: 1.2302 - val_categorical_accuracy: 0.4928\n",
            "\n",
            "Epoch 00001: val_loss improved from 1.69153 to 1.23018, saving model to model_01\n",
            "INFO:tensorflow:Assets written to: model_01/assets\n",
            "Epoch 2/50\n",
            "90/90 [==============================] - 5s 51ms/step - loss: 1.7306 - categorical_accuracy: 0.4329 - val_loss: 1.6410 - val_categorical_accuracy: 0.4021\n",
            "\n",
            "Epoch 00002: val_loss did not improve from 1.23018\n",
            "Epoch 3/50\n",
            "90/90 [==============================] - 4s 50ms/step - loss: 1.4075 - categorical_accuracy: 0.4937 - val_loss: 1.6091 - val_categorical_accuracy: 0.5165\n",
            "\n",
            "Epoch 00003: val_loss did not improve from 1.23018\n",
            "Epoch 4/50\n",
            "90/90 [==============================] - 4s 49ms/step - loss: 1.2789 - categorical_accuracy: 0.5181 - val_loss: 1.4544 - val_categorical_accuracy: 0.5742\n",
            "\n",
            "Epoch 00004: val_loss did not improve from 1.23018\n",
            "Epoch 5/50\n",
            "90/90 [==============================] - 4s 48ms/step - loss: 1.1373 - categorical_accuracy: 0.5751 - val_loss: 1.2469 - val_categorical_accuracy: 0.6062\n",
            "\n",
            "Epoch 00005: val_loss did not improve from 1.23018\n",
            "Epoch 6/50\n",
            "90/90 [==============================] - 4s 48ms/step - loss: 1.0983 - categorical_accuracy: 0.5837 - val_loss: 1.2202 - val_categorical_accuracy: 0.6052\n",
            "\n",
            "Epoch 00006: val_loss improved from 1.23018 to 1.22018, saving model to model_06\n",
            "INFO:tensorflow:Assets written to: model_06/assets\n",
            "Epoch 7/50\n",
            "90/90 [==============================] - 4s 48ms/step - loss: 1.0322 - categorical_accuracy: 0.5990 - val_loss: 1.1080 - val_categorical_accuracy: 0.6186\n",
            "\n",
            "Epoch 00007: val_loss improved from 1.22018 to 1.10797, saving model to model_07\n",
            "INFO:tensorflow:Assets written to: model_07/assets\n",
            "Epoch 8/50\n",
            "90/90 [==============================] - 4s 49ms/step - loss: 0.9429 - categorical_accuracy: 0.6425 - val_loss: 0.9173 - val_categorical_accuracy: 0.6392\n",
            "\n",
            "Epoch 00008: val_loss improved from 1.10797 to 0.91733, saving model to model_08\n",
            "INFO:tensorflow:Assets written to: model_08/assets\n",
            "Epoch 9/50\n",
            "90/90 [==============================] - 5s 51ms/step - loss: 0.9445 - categorical_accuracy: 0.6397 - val_loss: 0.9161 - val_categorical_accuracy: 0.6784\n",
            "\n",
            "Epoch 00009: val_loss improved from 0.91733 to 0.91615, saving model to model_09\n",
            "INFO:tensorflow:Assets written to: model_09/assets\n",
            "Epoch 10/50\n",
            "90/90 [==============================] - 5s 50ms/step - loss: 0.8800 - categorical_accuracy: 0.6564 - val_loss: 0.8812 - val_categorical_accuracy: 0.6557\n",
            "\n",
            "Epoch 00010: val_loss improved from 0.91615 to 0.88120, saving model to model_10\n",
            "INFO:tensorflow:Assets written to: model_10/assets\n",
            "Epoch 11/50\n",
            "90/90 [==============================] - 5s 50ms/step - loss: 0.8712 - categorical_accuracy: 0.6574 - val_loss: 0.9534 - val_categorical_accuracy: 0.6381\n",
            "\n",
            "Epoch 00011: val_loss did not improve from 0.88120\n",
            "Epoch 12/50\n",
            "90/90 [==============================] - 4s 48ms/step - loss: 0.8203 - categorical_accuracy: 0.6928 - val_loss: 0.9573 - val_categorical_accuracy: 0.6371\n",
            "\n",
            "Epoch 00012: val_loss did not improve from 0.88120\n",
            "Epoch 13/50\n",
            "90/90 [==============================] - 4s 49ms/step - loss: 0.7991 - categorical_accuracy: 0.7071 - val_loss: 0.9549 - val_categorical_accuracy: 0.6629\n",
            "\n",
            "Epoch 00013: val_loss did not improve from 0.88120\n",
            "Epoch 14/50\n",
            "90/90 [==============================] - 4s 49ms/step - loss: 0.7732 - categorical_accuracy: 0.6963 - val_loss: 0.9683 - val_categorical_accuracy: 0.6567\n",
            "\n",
            "Epoch 00014: val_loss did not improve from 0.88120\n",
            "Epoch 15/50\n",
            "90/90 [==============================] - 4s 49ms/step - loss: 0.7597 - categorical_accuracy: 0.7116 - val_loss: 0.9308 - val_categorical_accuracy: 0.6505\n",
            "\n",
            "Epoch 00015: val_loss did not improve from 0.88120\n",
            "Epoch 16/50\n",
            "90/90 [==============================] - 4s 49ms/step - loss: 0.7205 - categorical_accuracy: 0.7276 - val_loss: 0.8639 - val_categorical_accuracy: 0.6577\n",
            "\n",
            "Epoch 00016: val_loss improved from 0.88120 to 0.86392, saving model to model_16\n",
            "INFO:tensorflow:Assets written to: model_16/assets\n",
            "Epoch 17/50\n",
            "90/90 [==============================] - 5s 52ms/step - loss: 0.7314 - categorical_accuracy: 0.7272 - val_loss: 0.8972 - val_categorical_accuracy: 0.6557\n",
            "\n",
            "Epoch 00017: val_loss did not improve from 0.86392\n",
            "Epoch 18/50\n",
            "90/90 [==============================] - 5s 50ms/step - loss: 0.6774 - categorical_accuracy: 0.7474 - val_loss: 0.9820 - val_categorical_accuracy: 0.6680\n",
            "\n",
            "Epoch 00018: val_loss did not improve from 0.86392\n",
            "Epoch 19/50\n",
            "90/90 [==============================] - 4s 50ms/step - loss: 0.6632 - categorical_accuracy: 0.7488 - val_loss: 0.9678 - val_categorical_accuracy: 0.6443\n",
            "\n",
            "Epoch 00019: val_loss did not improve from 0.86392\n",
            "Epoch 20/50\n",
            "90/90 [==============================] - 4s 49ms/step - loss: 0.6769 - categorical_accuracy: 0.7498 - val_loss: 0.9674 - val_categorical_accuracy: 0.6619\n",
            "\n",
            "Epoch 00020: val_loss did not improve from 0.86392\n",
            "Epoch 21/50\n",
            "90/90 [==============================] - 4s 49ms/step - loss: 0.6571 - categorical_accuracy: 0.7578 - val_loss: 0.9962 - val_categorical_accuracy: 0.6588\n",
            "\n",
            "Epoch 00021: val_loss did not improve from 0.86392\n",
            "Epoch 22/50\n",
            "90/90 [==============================] - 4s 48ms/step - loss: 0.6459 - categorical_accuracy: 0.7578 - val_loss: 0.9578 - val_categorical_accuracy: 0.6670\n",
            "\n",
            "Epoch 00022: val_loss did not improve from 0.86392\n",
            "Epoch 23/50\n",
            "90/90 [==============================] - 4s 49ms/step - loss: 0.6344 - categorical_accuracy: 0.7620 - val_loss: 0.9470 - val_categorical_accuracy: 0.6722\n",
            "\n",
            "Epoch 00023: val_loss did not improve from 0.86392\n",
            "Epoch 24/50\n",
            "90/90 [==============================] - 4s 48ms/step - loss: 0.6350 - categorical_accuracy: 0.7568 - val_loss: 0.9579 - val_categorical_accuracy: 0.6680\n",
            "\n",
            "Epoch 00024: val_loss did not improve from 0.86392\n",
            "Epoch 25/50\n",
            "90/90 [==============================] - 4s 49ms/step - loss: 0.5882 - categorical_accuracy: 0.7891 - val_loss: 1.0033 - val_categorical_accuracy: 0.6588\n",
            "\n",
            "Epoch 00025: val_loss did not improve from 0.86392\n",
            "Epoch 26/50\n",
            "90/90 [==============================] - 4s 49ms/step - loss: 0.5756 - categorical_accuracy: 0.7856 - val_loss: 1.0699 - val_categorical_accuracy: 0.6454\n",
            "\n",
            "Epoch 00026: val_loss did not improve from 0.86392\n",
            "Epoch 27/50\n",
            "90/90 [==============================] - 4s 49ms/step - loss: 0.5738 - categorical_accuracy: 0.7933 - val_loss: 1.0591 - val_categorical_accuracy: 0.6557\n",
            "\n",
            "Epoch 00027: val_loss did not improve from 0.86392\n",
            "Epoch 28/50\n",
            "90/90 [==============================] - 4s 49ms/step - loss: 0.5752 - categorical_accuracy: 0.7860 - val_loss: 1.0116 - val_categorical_accuracy: 0.6495\n",
            "\n",
            "Epoch 00028: val_loss did not improve from 0.86392\n",
            "Epoch 29/50\n",
            "90/90 [==============================] - 4s 49ms/step - loss: 0.5734 - categorical_accuracy: 0.7853 - val_loss: 1.0002 - val_categorical_accuracy: 0.6722\n",
            "\n",
            "Epoch 00029: val_loss did not improve from 0.86392\n",
            "Epoch 30/50\n",
            "90/90 [==============================] - 4s 49ms/step - loss: 0.5590 - categorical_accuracy: 0.7898 - val_loss: 1.0202 - val_categorical_accuracy: 0.6474\n",
            "\n",
            "Epoch 00030: val_loss did not improve from 0.86392\n",
            "Epoch 31/50\n",
            "90/90 [==============================] - 4s 49ms/step - loss: 0.5622 - categorical_accuracy: 0.7846 - val_loss: 0.9567 - val_categorical_accuracy: 0.6784\n",
            "\n",
            "Epoch 00031: val_loss did not improve from 0.86392\n",
            "Epoch 32/50\n",
            "90/90 [==============================] - 4s 49ms/step - loss: 0.5541 - categorical_accuracy: 0.8019 - val_loss: 1.0769 - val_categorical_accuracy: 0.6351\n",
            "\n",
            "Epoch 00032: val_loss did not improve from 0.86392\n",
            "Epoch 33/50\n",
            "90/90 [==============================] - 4s 49ms/step - loss: 0.5370 - categorical_accuracy: 0.8047 - val_loss: 1.0680 - val_categorical_accuracy: 0.6526\n",
            "\n",
            "Epoch 00033: val_loss did not improve from 0.86392\n",
            "Epoch 34/50\n",
            "90/90 [==============================] - 4s 49ms/step - loss: 0.5201 - categorical_accuracy: 0.8155 - val_loss: 1.0229 - val_categorical_accuracy: 0.6660\n",
            "\n",
            "Epoch 00034: val_loss did not improve from 0.86392\n",
            "Epoch 35/50\n",
            "90/90 [==============================] - 4s 49ms/step - loss: 0.5155 - categorical_accuracy: 0.8151 - val_loss: 1.0428 - val_categorical_accuracy: 0.6588\n",
            "\n",
            "Epoch 00035: val_loss did not improve from 0.86392\n",
            "Epoch 36/50\n",
            "90/90 [==============================] - 4s 49ms/step - loss: 0.5111 - categorical_accuracy: 0.8242 - val_loss: 1.0646 - val_categorical_accuracy: 0.6608\n",
            "\n",
            "Epoch 00036: val_loss did not improve from 0.86392\n",
            "Epoch 37/50\n",
            "90/90 [==============================] - 4s 50ms/step - loss: 0.5168 - categorical_accuracy: 0.8214 - val_loss: 1.0960 - val_categorical_accuracy: 0.6691\n",
            "\n",
            "Epoch 00037: val_loss did not improve from 0.86392\n",
            "Epoch 38/50\n",
            "90/90 [==============================] - 4s 49ms/step - loss: 0.4855 - categorical_accuracy: 0.8263 - val_loss: 1.1041 - val_categorical_accuracy: 0.6742\n",
            "\n",
            "Epoch 00038: val_loss did not improve from 0.86392\n",
            "Epoch 39/50\n",
            "90/90 [==============================] - 4s 49ms/step - loss: 0.4903 - categorical_accuracy: 0.8256 - val_loss: 1.1145 - val_categorical_accuracy: 0.6639\n",
            "\n",
            "Epoch 00039: val_loss did not improve from 0.86392\n",
            "Epoch 40/50\n",
            "90/90 [==============================] - 4s 50ms/step - loss: 0.5062 - categorical_accuracy: 0.8082 - val_loss: 1.1318 - val_categorical_accuracy: 0.6619\n",
            "\n",
            "Epoch 00040: val_loss did not improve from 0.86392\n",
            "Epoch 41/50\n",
            "90/90 [==============================] - 4s 49ms/step - loss: 0.4935 - categorical_accuracy: 0.8297 - val_loss: 1.1085 - val_categorical_accuracy: 0.6732\n",
            "\n",
            "Epoch 00041: val_loss did not improve from 0.86392\n",
            "Epoch 42/50\n",
            "90/90 [==============================] - 4s 49ms/step - loss: 0.5071 - categorical_accuracy: 0.8190 - val_loss: 1.1143 - val_categorical_accuracy: 0.6701\n",
            "\n",
            "Epoch 00042: val_loss did not improve from 0.86392\n",
            "Epoch 43/50\n",
            "90/90 [==============================] - 4s 49ms/step - loss: 0.4848 - categorical_accuracy: 0.8224 - val_loss: 1.2445 - val_categorical_accuracy: 0.6392\n",
            "\n",
            "Epoch 00043: val_loss did not improve from 0.86392\n",
            "Epoch 44/50\n",
            "90/90 [==============================] - 4s 48ms/step - loss: 0.4745 - categorical_accuracy: 0.8370 - val_loss: 1.1660 - val_categorical_accuracy: 0.6660\n",
            "\n",
            "Epoch 00044: val_loss did not improve from 0.86392\n",
            "Epoch 45/50\n",
            "90/90 [==============================] - 4s 49ms/step - loss: 0.4710 - categorical_accuracy: 0.8336 - val_loss: 1.1559 - val_categorical_accuracy: 0.6629\n",
            "\n",
            "Epoch 00045: val_loss did not improve from 0.86392\n",
            "Epoch 46/50\n",
            "90/90 [==============================] - 4s 49ms/step - loss: 0.4699 - categorical_accuracy: 0.8353 - val_loss: 1.1565 - val_categorical_accuracy: 0.6701\n",
            "\n",
            "Epoch 00046: val_loss did not improve from 0.86392\n",
            "Epoch 47/50\n",
            "90/90 [==============================] - 4s 50ms/step - loss: 0.4553 - categorical_accuracy: 0.8426 - val_loss: 1.1518 - val_categorical_accuracy: 0.6680\n",
            "\n",
            "Epoch 00047: val_loss did not improve from 0.86392\n",
            "Epoch 48/50\n",
            "90/90 [==============================] - 4s 49ms/step - loss: 0.4454 - categorical_accuracy: 0.8395 - val_loss: 1.1669 - val_categorical_accuracy: 0.6691\n",
            "\n",
            "Epoch 00048: val_loss did not improve from 0.86392\n",
            "Epoch 49/50\n",
            "90/90 [==============================] - 4s 48ms/step - loss: 0.4417 - categorical_accuracy: 0.8468 - val_loss: 1.1408 - val_categorical_accuracy: 0.6742\n",
            "\n",
            "Epoch 00049: val_loss did not improve from 0.86392\n",
            "Epoch 50/50\n",
            "90/90 [==============================] - 4s 49ms/step - loss: 0.4385 - categorical_accuracy: 0.8523 - val_loss: 1.1542 - val_categorical_accuracy: 0.6814\n",
            "\n",
            "Epoch 00050: val_loss did not improve from 0.86392\n"
          ]
        },
        {
          "output_type": "execute_result",
          "data": {
            "text/plain": [
              "<keras.callbacks.History at 0x7f6e7baa7850>"
            ]
          },
          "metadata": {},
          "execution_count": 114
        }
      ]
    },
    {
      "cell_type": "code",
      "metadata": {
        "id": "_6csT0YSUOA9",
        "outputId": "37f90338-ffeb-4523-c0ba-da347b053a7d",
        "colab": {
          "base_uri": "https://localhost:8080/",
          "height": 281
        }
      },
      "source": [
        "fig=plt.figure()\n",
        "plt.plot(model.history.history[\"loss\"],label=\"loss\")\n",
        "plt.plot(model.history.history[\"val_loss\"],label=\"val_loss\")\n",
        "plt.title(\"loss vs val_loss\")\n",
        "plt.show()"
      ],
      "execution_count": 117,
      "outputs": [
        {
          "output_type": "display_data",
          "data": {
            "image/png": "[encoded data removed]",
            "text/plain": [
              "<Figure size 432x288 with 1 Axes>"
            ]
          },
          "metadata": {
            "needs_background": "light"
          }
        }
      ]
    },
    {
      "cell_type": "code",
      "metadata": {
        "id": "GwmZH8lQYufa",
        "outputId": "bda344e3-a1f4-4bab-9890-167df942e5c4",
        "colab": {
          "base_uri": "https://localhost:8080/"
        }
      },
      "source": [
        "prediction = model.predict(train_images_normalised)\n",
        "print(classification_report(train_label_onehot.argmax(axis=1),prediction.argmax(axis=1),target_names=lb.classes_))"
      ],
      "execution_count": 121,
      "outputs": [
        {
          "output_type": "stream",
          "name": "stdout",
          "text": [
            "              precision    recall  f1-score   support\n",
            "\n",
            "    airplane       0.92      0.94      0.93       194\n",
            "      animal       1.00      0.11      0.20       194\n",
            "         car       0.84      0.37      0.51       194\n",
            "       human       0.62      1.00      0.77       194\n",
            "       truck       0.54      0.98      0.70       194\n",
            "\n",
            "    accuracy                           0.68       970\n",
            "   macro avg       0.78      0.68      0.62       970\n",
            "weighted avg       0.78      0.68      0.62       970\n",
            "\n"
          ]
        }
      ]
    },
    {
      "cell_type": "code",
      "metadata": {
        "id": "AQhoFEBrY_8Z",
        "outputId": "781bf790-0922-4a4e-a8c6-b1c1ff746bf0",
        "colab": {
          "base_uri": "https://localhost:8080/"
        }
      },
      "source": [
        "prediction = model.predict(val_images_normalised)\n",
        "print(classification_report(val_label_onehot.argmax(axis=1),prediction.argmax(axis=1),target_names=lb.classes_))"
      ],
      "execution_count": 122,
      "outputs": [
        {
          "output_type": "stream",
          "name": "stdout",
          "text": [
            "              precision    recall  f1-score   support\n",
            "\n",
            "    airplane       0.94      0.94      0.94       582\n",
            "      animal       0.99      0.82      0.90       582\n",
            "         car       0.99      0.83      0.90       582\n",
            "       human       0.82      0.99      0.90       582\n",
            "       truck       0.85      0.97      0.91       582\n",
            "\n",
            "    accuracy                           0.91      2910\n",
            "   macro avg       0.92      0.91      0.91      2910\n",
            "weighted avg       0.92      0.91      0.91      2910\n",
            "\n"
          ]
        }
      ]
    }
  ]
}